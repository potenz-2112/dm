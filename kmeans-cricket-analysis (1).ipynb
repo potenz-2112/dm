{
 "cells": [
  {
   "cell_type": "code",
   "execution_count": 1,
   "metadata": {
    "execution": {
     "iopub.execute_input": "2023-02-03T06:37:42.560268Z",
     "iopub.status.busy": "2023-02-03T06:37:42.559818Z",
     "iopub.status.idle": "2023-02-03T06:37:42.566644Z",
     "shell.execute_reply": "2023-02-03T06:37:42.565314Z",
     "shell.execute_reply.started": "2023-02-03T06:37:42.560234Z"
    }
   },
   "outputs": [],
   "source": [
    "import numpy as np\n",
    "import pandas as pd\n",
    "import matplotlib.pyplot as plt\n",
    "import seaborn as sns"
   ]
  },
  {
   "cell_type": "code",
   "execution_count": 2,
   "metadata": {
    "execution": {
     "iopub.execute_input": "2023-02-03T06:37:42.570173Z",
     "iopub.status.busy": "2023-02-03T06:37:42.569436Z",
     "iopub.status.idle": "2023-02-03T06:37:42.606847Z",
     "shell.execute_reply": "2023-02-03T06:37:42.605677Z",
     "shell.execute_reply.started": "2023-02-03T06:37:42.570112Z"
    }
   },
   "outputs": [],
   "source": [
    "df = pd.read_csv(\"BATTING STATS - IPL_2016.csv\")\n",
    "df1 = pd.read_csv(\"BOWLING STATS - IPL_2016.csv\")"
   ]
  },
  {
   "cell_type": "code",
   "execution_count": 3,
   "metadata": {
    "execution": {
     "iopub.execute_input": "2023-02-03T06:37:42.608596Z",
     "iopub.status.busy": "2023-02-03T06:37:42.608231Z",
     "iopub.status.idle": "2023-02-03T06:37:42.616847Z",
     "shell.execute_reply": "2023-02-03T06:37:42.615521Z",
     "shell.execute_reply.started": "2023-02-03T06:37:42.608562Z"
    }
   },
   "outputs": [
    {
     "data": {
      "text/plain": [
       "(136, 14)"
      ]
     },
     "execution_count": 3,
     "metadata": {},
     "output_type": "execute_result"
    }
   ],
   "source": [
    "df.shape"
   ]
  },
  {
   "cell_type": "code",
   "execution_count": 4,
   "metadata": {
    "execution": {
     "iopub.execute_input": "2023-02-03T06:37:42.620577Z",
     "iopub.status.busy": "2023-02-03T06:37:42.620172Z",
     "iopub.status.idle": "2023-02-03T06:37:42.630914Z",
     "shell.execute_reply": "2023-02-03T06:37:42.629701Z",
     "shell.execute_reply.started": "2023-02-03T06:37:42.620540Z"
    }
   },
   "outputs": [
    {
     "data": {
      "text/plain": [
       "(86, 13)"
      ]
     },
     "execution_count": 4,
     "metadata": {},
     "output_type": "execute_result"
    }
   ],
   "source": [
    "df1.shape"
   ]
  },
  {
   "cell_type": "code",
   "execution_count": 5,
   "metadata": {
    "execution": {
     "iopub.execute_input": "2023-02-03T06:37:42.632764Z",
     "iopub.status.busy": "2023-02-03T06:37:42.632287Z",
     "iopub.status.idle": "2023-02-03T06:37:42.648962Z",
     "shell.execute_reply": "2023-02-03T06:37:42.647772Z",
     "shell.execute_reply.started": "2023-02-03T06:37:42.632716Z"
    }
   },
   "outputs": [],
   "source": [
    "merged_df = pd.merge(df, df1, on='Player', how='outer')"
   ]
  },
  {
   "cell_type": "code",
   "execution_count": 6,
   "metadata": {
    "execution": {
     "iopub.execute_input": "2023-02-03T06:37:42.650864Z",
     "iopub.status.busy": "2023-02-03T06:37:42.650495Z",
     "iopub.status.idle": "2023-02-03T06:37:42.706820Z",
     "shell.execute_reply": "2023-02-03T06:37:42.705610Z",
     "shell.execute_reply.started": "2023-02-03T06:37:42.650832Z"
    }
   },
   "outputs": [
    {
     "data": {
      "text/html": [
       "<div>\n",
       "<style scoped>\n",
       "    .dataframe tbody tr th:only-of-type {\n",
       "        vertical-align: middle;\n",
       "    }\n",
       "\n",
       "    .dataframe tbody tr th {\n",
       "        vertical-align: top;\n",
       "    }\n",
       "\n",
       "    .dataframe thead th {\n",
       "        text-align: right;\n",
       "    }\n",
       "</style>\n",
       "<table border=\"1\" class=\"dataframe\">\n",
       "  <thead>\n",
       "    <tr style=\"text-align: right;\">\n",
       "      <th></th>\n",
       "      <th>POS_x</th>\n",
       "      <th>Player</th>\n",
       "      <th>Mat_x</th>\n",
       "      <th>Inns_x</th>\n",
       "      <th>NO</th>\n",
       "      <th>Runs_x</th>\n",
       "      <th>HS</th>\n",
       "      <th>Avg_x</th>\n",
       "      <th>BF</th>\n",
       "      <th>SR_x</th>\n",
       "      <th>...</th>\n",
       "      <th>Inns_y</th>\n",
       "      <th>Ov</th>\n",
       "      <th>Runs_y</th>\n",
       "      <th>Wkts</th>\n",
       "      <th>BBI</th>\n",
       "      <th>Avg_y</th>\n",
       "      <th>Econ</th>\n",
       "      <th>SR_y</th>\n",
       "      <th>4w</th>\n",
       "      <th>5w</th>\n",
       "    </tr>\n",
       "  </thead>\n",
       "  <tbody>\n",
       "    <tr>\n",
       "      <th>0</th>\n",
       "      <td>1.0</td>\n",
       "      <td>Virat Kohli</td>\n",
       "      <td>16.0</td>\n",
       "      <td>16.0</td>\n",
       "      <td>4.0</td>\n",
       "      <td>973.0</td>\n",
       "      <td>113</td>\n",
       "      <td>81.08</td>\n",
       "      <td>640.0</td>\n",
       "      <td>152.03</td>\n",
       "      <td>...</td>\n",
       "      <td>NaN</td>\n",
       "      <td>NaN</td>\n",
       "      <td>NaN</td>\n",
       "      <td>NaN</td>\n",
       "      <td>NaN</td>\n",
       "      <td>NaN</td>\n",
       "      <td>NaN</td>\n",
       "      <td>NaN</td>\n",
       "      <td>NaN</td>\n",
       "      <td>NaN</td>\n",
       "    </tr>\n",
       "    <tr>\n",
       "      <th>1</th>\n",
       "      <td>2.0</td>\n",
       "      <td>David Warner</td>\n",
       "      <td>17.0</td>\n",
       "      <td>17.0</td>\n",
       "      <td>3.0</td>\n",
       "      <td>848.0</td>\n",
       "      <td>93*</td>\n",
       "      <td>60.57</td>\n",
       "      <td>560.0</td>\n",
       "      <td>151.42</td>\n",
       "      <td>...</td>\n",
       "      <td>NaN</td>\n",
       "      <td>NaN</td>\n",
       "      <td>NaN</td>\n",
       "      <td>NaN</td>\n",
       "      <td>NaN</td>\n",
       "      <td>NaN</td>\n",
       "      <td>NaN</td>\n",
       "      <td>NaN</td>\n",
       "      <td>NaN</td>\n",
       "      <td>NaN</td>\n",
       "    </tr>\n",
       "    <tr>\n",
       "      <th>2</th>\n",
       "      <td>3.0</td>\n",
       "      <td>AB de Villiers</td>\n",
       "      <td>16.0</td>\n",
       "      <td>16.0</td>\n",
       "      <td>3.0</td>\n",
       "      <td>687.0</td>\n",
       "      <td>129*</td>\n",
       "      <td>52.84</td>\n",
       "      <td>407.0</td>\n",
       "      <td>168.79</td>\n",
       "      <td>...</td>\n",
       "      <td>NaN</td>\n",
       "      <td>NaN</td>\n",
       "      <td>NaN</td>\n",
       "      <td>NaN</td>\n",
       "      <td>NaN</td>\n",
       "      <td>NaN</td>\n",
       "      <td>NaN</td>\n",
       "      <td>NaN</td>\n",
       "      <td>NaN</td>\n",
       "      <td>NaN</td>\n",
       "    </tr>\n",
       "    <tr>\n",
       "      <th>3</th>\n",
       "      <td>4.0</td>\n",
       "      <td>Gautam Gambhir</td>\n",
       "      <td>15.0</td>\n",
       "      <td>15.0</td>\n",
       "      <td>2.0</td>\n",
       "      <td>501.0</td>\n",
       "      <td>90*</td>\n",
       "      <td>38.53</td>\n",
       "      <td>411.0</td>\n",
       "      <td>121.89</td>\n",
       "      <td>...</td>\n",
       "      <td>NaN</td>\n",
       "      <td>NaN</td>\n",
       "      <td>NaN</td>\n",
       "      <td>NaN</td>\n",
       "      <td>NaN</td>\n",
       "      <td>NaN</td>\n",
       "      <td>NaN</td>\n",
       "      <td>NaN</td>\n",
       "      <td>NaN</td>\n",
       "      <td>NaN</td>\n",
       "    </tr>\n",
       "    <tr>\n",
       "      <th>4</th>\n",
       "      <td>5.0</td>\n",
       "      <td>Shikhar Dhawan</td>\n",
       "      <td>17.0</td>\n",
       "      <td>17.0</td>\n",
       "      <td>4.0</td>\n",
       "      <td>501.0</td>\n",
       "      <td>82*</td>\n",
       "      <td>38.53</td>\n",
       "      <td>429.0</td>\n",
       "      <td>116.78</td>\n",
       "      <td>...</td>\n",
       "      <td>NaN</td>\n",
       "      <td>NaN</td>\n",
       "      <td>NaN</td>\n",
       "      <td>NaN</td>\n",
       "      <td>NaN</td>\n",
       "      <td>NaN</td>\n",
       "      <td>NaN</td>\n",
       "      <td>NaN</td>\n",
       "      <td>NaN</td>\n",
       "      <td>NaN</td>\n",
       "    </tr>\n",
       "    <tr>\n",
       "      <th>...</th>\n",
       "      <td>...</td>\n",
       "      <td>...</td>\n",
       "      <td>...</td>\n",
       "      <td>...</td>\n",
       "      <td>...</td>\n",
       "      <td>...</td>\n",
       "      <td>...</td>\n",
       "      <td>...</td>\n",
       "      <td>...</td>\n",
       "      <td>...</td>\n",
       "      <td>...</td>\n",
       "      <td>...</td>\n",
       "      <td>...</td>\n",
       "      <td>...</td>\n",
       "      <td>...</td>\n",
       "      <td>...</td>\n",
       "      <td>...</td>\n",
       "      <td>...</td>\n",
       "      <td>...</td>\n",
       "      <td>...</td>\n",
       "      <td>...</td>\n",
       "    </tr>\n",
       "    <tr>\n",
       "      <th>147</th>\n",
       "      <td>NaN</td>\n",
       "      <td>John Hastings</td>\n",
       "      <td>NaN</td>\n",
       "      <td>NaN</td>\n",
       "      <td>NaN</td>\n",
       "      <td>NaN</td>\n",
       "      <td>NaN</td>\n",
       "      <td>NaN</td>\n",
       "      <td>NaN</td>\n",
       "      <td>NaN</td>\n",
       "      <td>...</td>\n",
       "      <td>2.0</td>\n",
       "      <td>6.0</td>\n",
       "      <td>37.0</td>\n",
       "      <td>2.0</td>\n",
       "      <td>2/6</td>\n",
       "      <td>18.5</td>\n",
       "      <td>5.55</td>\n",
       "      <td>20.0</td>\n",
       "      <td>0.0</td>\n",
       "      <td>0.0</td>\n",
       "    </tr>\n",
       "    <tr>\n",
       "      <th>148</th>\n",
       "      <td>NaN</td>\n",
       "      <td>Varun Aaron</td>\n",
       "      <td>NaN</td>\n",
       "      <td>NaN</td>\n",
       "      <td>NaN</td>\n",
       "      <td>NaN</td>\n",
       "      <td>NaN</td>\n",
       "      <td>NaN</td>\n",
       "      <td>NaN</td>\n",
       "      <td>NaN</td>\n",
       "      <td>...</td>\n",
       "      <td>8.0</td>\n",
       "      <td>23.0</td>\n",
       "      <td>227.0</td>\n",
       "      <td>2.0</td>\n",
       "      <td>3/16</td>\n",
       "      <td>113.5</td>\n",
       "      <td>9.59</td>\n",
       "      <td>71.0</td>\n",
       "      <td>0.0</td>\n",
       "      <td>0.0</td>\n",
       "    </tr>\n",
       "    <tr>\n",
       "      <th>149</th>\n",
       "      <td>NaN</td>\n",
       "      <td>Trent Boult</td>\n",
       "      <td>NaN</td>\n",
       "      <td>NaN</td>\n",
       "      <td>NaN</td>\n",
       "      <td>NaN</td>\n",
       "      <td>NaN</td>\n",
       "      <td>NaN</td>\n",
       "      <td>NaN</td>\n",
       "      <td>NaN</td>\n",
       "      <td>...</td>\n",
       "      <td>1.0</td>\n",
       "      <td>4.0</td>\n",
       "      <td>39.0</td>\n",
       "      <td>1.0</td>\n",
       "      <td>4/18</td>\n",
       "      <td>39.0</td>\n",
       "      <td>9.75</td>\n",
       "      <td>24.0</td>\n",
       "      <td>0.0</td>\n",
       "      <td>0.0</td>\n",
       "    </tr>\n",
       "    <tr>\n",
       "      <th>150</th>\n",
       "      <td>NaN</td>\n",
       "      <td>Adam Milne</td>\n",
       "      <td>NaN</td>\n",
       "      <td>NaN</td>\n",
       "      <td>NaN</td>\n",
       "      <td>NaN</td>\n",
       "      <td>NaN</td>\n",
       "      <td>NaN</td>\n",
       "      <td>NaN</td>\n",
       "      <td>NaN</td>\n",
       "      <td>...</td>\n",
       "      <td>1.0</td>\n",
       "      <td>4.0</td>\n",
       "      <td>43.0</td>\n",
       "      <td>1.0</td>\n",
       "      <td>2/21</td>\n",
       "      <td>43.0</td>\n",
       "      <td>10.75</td>\n",
       "      <td>24.0</td>\n",
       "      <td>0.0</td>\n",
       "      <td>0.0</td>\n",
       "    </tr>\n",
       "    <tr>\n",
       "      <th>151</th>\n",
       "      <td>NaN</td>\n",
       "      <td>Harshal Patel</td>\n",
       "      <td>NaN</td>\n",
       "      <td>NaN</td>\n",
       "      <td>NaN</td>\n",
       "      <td>NaN</td>\n",
       "      <td>NaN</td>\n",
       "      <td>NaN</td>\n",
       "      <td>NaN</td>\n",
       "      <td>NaN</td>\n",
       "      <td>...</td>\n",
       "      <td>5.0</td>\n",
       "      <td>14.0</td>\n",
       "      <td>147.0</td>\n",
       "      <td>1.0</td>\n",
       "      <td>5/27</td>\n",
       "      <td>147.0</td>\n",
       "      <td>10.50</td>\n",
       "      <td>84.0</td>\n",
       "      <td>0.0</td>\n",
       "      <td>0.0</td>\n",
       "    </tr>\n",
       "  </tbody>\n",
       "</table>\n",
       "<p>152 rows × 26 columns</p>\n",
       "</div>"
      ],
      "text/plain": [
       "     POS_x          Player  Mat_x  Inns_x   NO  Runs_x    HS  Avg_x     BF  \\\n",
       "0      1.0     Virat Kohli   16.0    16.0  4.0   973.0   113  81.08  640.0   \n",
       "1      2.0    David Warner   17.0    17.0  3.0   848.0   93*  60.57  560.0   \n",
       "2      3.0  AB de Villiers   16.0    16.0  3.0   687.0  129*  52.84  407.0   \n",
       "3      4.0  Gautam Gambhir   15.0    15.0  2.0   501.0   90*  38.53  411.0   \n",
       "4      5.0  Shikhar Dhawan   17.0    17.0  4.0   501.0   82*  38.53  429.0   \n",
       "..     ...             ...    ...     ...  ...     ...   ...    ...    ...   \n",
       "147    NaN   John Hastings    NaN     NaN  NaN     NaN   NaN    NaN    NaN   \n",
       "148    NaN     Varun Aaron    NaN     NaN  NaN     NaN   NaN    NaN    NaN   \n",
       "149    NaN     Trent Boult    NaN     NaN  NaN     NaN   NaN    NaN    NaN   \n",
       "150    NaN      Adam Milne    NaN     NaN  NaN     NaN   NaN    NaN    NaN   \n",
       "151    NaN   Harshal Patel    NaN     NaN  NaN     NaN   NaN    NaN    NaN   \n",
       "\n",
       "       SR_x  ...  Inns_y    Ov  Runs_y  Wkts   BBI  Avg_y   Econ  SR_y   4w  \\\n",
       "0    152.03  ...     NaN   NaN     NaN   NaN   NaN    NaN    NaN   NaN  NaN   \n",
       "1    151.42  ...     NaN   NaN     NaN   NaN   NaN    NaN    NaN   NaN  NaN   \n",
       "2    168.79  ...     NaN   NaN     NaN   NaN   NaN    NaN    NaN   NaN  NaN   \n",
       "3    121.89  ...     NaN   NaN     NaN   NaN   NaN    NaN    NaN   NaN  NaN   \n",
       "4    116.78  ...     NaN   NaN     NaN   NaN   NaN    NaN    NaN   NaN  NaN   \n",
       "..      ...  ...     ...   ...     ...   ...   ...    ...    ...   ...  ...   \n",
       "147     NaN  ...     2.0   6.0    37.0   2.0   2/6   18.5   5.55  20.0  0.0   \n",
       "148     NaN  ...     8.0  23.0   227.0   2.0  3/16  113.5   9.59  71.0  0.0   \n",
       "149     NaN  ...     1.0   4.0    39.0   1.0  4/18   39.0   9.75  24.0  0.0   \n",
       "150     NaN  ...     1.0   4.0    43.0   1.0  2/21   43.0  10.75  24.0  0.0   \n",
       "151     NaN  ...     5.0  14.0   147.0   1.0  5/27  147.0  10.50  84.0  0.0   \n",
       "\n",
       "      5w  \n",
       "0    NaN  \n",
       "1    NaN  \n",
       "2    NaN  \n",
       "3    NaN  \n",
       "4    NaN  \n",
       "..   ...  \n",
       "147  0.0  \n",
       "148  0.0  \n",
       "149  0.0  \n",
       "150  0.0  \n",
       "151  0.0  \n",
       "\n",
       "[152 rows x 26 columns]"
      ]
     },
     "execution_count": 6,
     "metadata": {},
     "output_type": "execute_result"
    }
   ],
   "source": [
    "merged_df"
   ]
  },
  {
   "cell_type": "code",
   "execution_count": 7,
   "metadata": {
    "execution": {
     "iopub.execute_input": "2023-02-03T06:37:42.709116Z",
     "iopub.status.busy": "2023-02-03T06:37:42.708309Z",
     "iopub.status.idle": "2023-02-03T06:37:42.857231Z",
     "shell.execute_reply": "2023-02-03T06:37:42.855676Z",
     "shell.execute_reply.started": "2023-02-03T06:37:42.709076Z"
    }
   },
   "outputs": [
    {
     "data": {
      "text/plain": [
       "<matplotlib.collections.PathCollection at 0x2b6a0ebffd0>"
      ]
     },
     "execution_count": 7,
     "metadata": {},
     "output_type": "execute_result"
    },
    {
     "data": {
      "image/png": "[encoded data removed]",
      "text/plain": [
       "<Figure size 640x480 with 1 Axes>"
      ]
     },
     "metadata": {},
     "output_type": "display_data"
    }
   ],
   "source": [
    "plt.scatter(merged_df['Runs_x'], merged_df['Runs_y'])"
   ]
  },
  {
   "cell_type": "code",
   "execution_count": 8,
   "metadata": {
    "execution": {
     "iopub.execute_input": "2023-02-03T06:37:42.862034Z",
     "iopub.status.busy": "2023-02-03T06:37:42.860808Z",
     "iopub.status.idle": "2023-02-03T06:37:42.869081Z",
     "shell.execute_reply": "2023-02-03T06:37:42.868018Z",
     "shell.execute_reply.started": "2023-02-03T06:37:42.861991Z"
    }
   },
   "outputs": [],
   "source": [
    "x1 = np.array(merged_df['Runs_x'])\n",
    "x2 = np.array(merged_df['Runs_y'])"
   ]
  },
  {
   "cell_type": "code",
   "execution_count": 9,
   "metadata": {
    "execution": {
     "iopub.execute_input": "2023-02-03T06:37:42.870947Z",
     "iopub.status.busy": "2023-02-03T06:37:42.870499Z",
     "iopub.status.idle": "2023-02-03T06:37:42.881894Z",
     "shell.execute_reply": "2023-02-03T06:37:42.880643Z",
     "shell.execute_reply.started": "2023-02-03T06:37:42.870914Z"
    }
   },
   "outputs": [],
   "source": [
    "from sklearn.impute import KNNImputer,SimpleImputer"
   ]
  },
  {
   "cell_type": "code",
   "execution_count": 10,
   "metadata": {
    "execution": {
     "iopub.execute_input": "2023-02-03T06:37:42.888448Z",
     "iopub.status.busy": "2023-02-03T06:37:42.887093Z",
     "iopub.status.idle": "2023-02-03T06:37:42.899014Z",
     "shell.execute_reply": "2023-02-03T06:37:42.897777Z",
     "shell.execute_reply.started": "2023-02-03T06:37:42.888397Z"
    }
   },
   "outputs": [],
   "source": [
    "knn = KNNImputer(n_neighbors=5)\n",
    "\n",
    "x1_imputed = knn.fit_transform(x1.reshape(-1,1))\n",
    "x2_imputed = knn.transform(x2.reshape(-1,1))"
   ]
  },
  {
   "cell_type": "code",
   "execution_count": 11,
   "metadata": {
    "execution": {
     "iopub.execute_input": "2023-02-03T06:37:42.901401Z",
     "iopub.status.busy": "2023-02-03T06:37:42.900830Z",
     "iopub.status.idle": "2023-02-03T06:37:42.909575Z",
     "shell.execute_reply": "2023-02-03T06:37:42.908299Z",
     "shell.execute_reply.started": "2023-02-03T06:37:42.901362Z"
    }
   },
   "outputs": [],
   "source": [
    "X = np.column_stack((x1_imputed, x2_imputed))"
   ]
  },
  {
   "cell_type": "code",
   "execution_count": 15,
   "metadata": {
    "execution": {
     "iopub.execute_input": "2023-02-03T06:37:42.911551Z",
     "iopub.status.busy": "2023-02-03T06:37:42.910830Z",
     "iopub.status.idle": "2023-02-03T06:37:42.920113Z",
     "shell.execute_reply": "2023-02-03T06:37:42.919054Z",
     "shell.execute_reply.started": "2023-02-03T06:37:42.911517Z"
    }
   },
   "outputs": [],
   "source": [
    "from sklearn.cluster import KMeans"
   ]
  },
  {
   "cell_type": "code",
   "execution_count": 16,
   "metadata": {
    "execution": {
     "iopub.execute_input": "2023-02-03T06:37:42.921995Z",
     "iopub.status.busy": "2023-02-03T06:37:42.921263Z",
     "iopub.status.idle": "2023-02-03T06:37:43.229901Z",
     "shell.execute_reply": "2023-02-03T06:37:43.228949Z",
     "shell.execute_reply.started": "2023-02-03T06:37:42.921958Z"
    }
   },
   "outputs": [
    {
     "name": "stderr",
     "output_type": "stream",
     "text": [
      "C:\\Users\\Poojan\\AppData\\Local\\Programs\\Python\\Python311\\Lib\\site-packages\\sklearn\\cluster\\_kmeans.py:870: FutureWarning: The default value of `n_init` will change from 10 to 'auto' in 1.4. Set the value of `n_init` explicitly to suppress the warning\n",
      "  warnings.warn(\n",
      "C:\\Users\\Poojan\\AppData\\Local\\Programs\\Python\\Python311\\Lib\\site-packages\\sklearn\\cluster\\_kmeans.py:870: FutureWarning: The default value of `n_init` will change from 10 to 'auto' in 1.4. Set the value of `n_init` explicitly to suppress the warning\n",
      "  warnings.warn(\n",
      "C:\\Users\\Poojan\\AppData\\Local\\Programs\\Python\\Python311\\Lib\\site-packages\\sklearn\\cluster\\_kmeans.py:870: FutureWarning: The default value of `n_init` will change from 10 to 'auto' in 1.4. Set the value of `n_init` explicitly to suppress the warning\n",
      "  warnings.warn(\n",
      "C:\\Users\\Poojan\\AppData\\Local\\Programs\\Python\\Python311\\Lib\\site-packages\\sklearn\\cluster\\_kmeans.py:870: FutureWarning: The default value of `n_init` will change from 10 to 'auto' in 1.4. Set the value of `n_init` explicitly to suppress the warning\n",
      "  warnings.warn(\n",
      "C:\\Users\\Poojan\\AppData\\Local\\Programs\\Python\\Python311\\Lib\\site-packages\\sklearn\\cluster\\_kmeans.py:870: FutureWarning: The default value of `n_init` will change from 10 to 'auto' in 1.4. Set the value of `n_init` explicitly to suppress the warning\n",
      "  warnings.warn(\n",
      "C:\\Users\\Poojan\\AppData\\Local\\Programs\\Python\\Python311\\Lib\\site-packages\\sklearn\\cluster\\_kmeans.py:870: FutureWarning: The default value of `n_init` will change from 10 to 'auto' in 1.4. Set the value of `n_init` explicitly to suppress the warning\n",
      "  warnings.warn(\n",
      "C:\\Users\\Poojan\\AppData\\Local\\Programs\\Python\\Python311\\Lib\\site-packages\\sklearn\\cluster\\_kmeans.py:870: FutureWarning: The default value of `n_init` will change from 10 to 'auto' in 1.4. Set the value of `n_init` explicitly to suppress the warning\n",
      "  warnings.warn(\n",
      "C:\\Users\\Poojan\\AppData\\Local\\Programs\\Python\\Python311\\Lib\\site-packages\\sklearn\\cluster\\_kmeans.py:870: FutureWarning: The default value of `n_init` will change from 10 to 'auto' in 1.4. Set the value of `n_init` explicitly to suppress the warning\n",
      "  warnings.warn(\n",
      "C:\\Users\\Poojan\\AppData\\Local\\Programs\\Python\\Python311\\Lib\\site-packages\\sklearn\\cluster\\_kmeans.py:870: FutureWarning: The default value of `n_init` will change from 10 to 'auto' in 1.4. Set the value of `n_init` explicitly to suppress the warning\n",
      "  warnings.warn(\n",
      "C:\\Users\\Poojan\\AppData\\Local\\Programs\\Python\\Python311\\Lib\\site-packages\\sklearn\\cluster\\_kmeans.py:870: FutureWarning: The default value of `n_init` will change from 10 to 'auto' in 1.4. Set the value of `n_init` explicitly to suppress the warning\n",
      "  warnings.warn(\n"
     ]
    }
   ],
   "source": [
    "wc = []\n",
    "\n",
    "for i in range(1, 11):\n",
    "    km = KMeans(n_clusters = i)\n",
    "    km.fit_predict(X)\n",
    "    wc.append(km.inertia_)"
   ]
  },
  {
   "cell_type": "code",
   "execution_count": 17,
   "metadata": {
    "execution": {
     "iopub.execute_input": "2023-02-03T06:37:43.231989Z",
     "iopub.status.busy": "2023-02-03T06:37:43.231097Z",
     "iopub.status.idle": "2023-02-03T06:37:43.238249Z",
     "shell.execute_reply": "2023-02-03T06:37:43.237148Z",
     "shell.execute_reply.started": "2023-02-03T06:37:43.231946Z"
    }
   },
   "outputs": [],
   "source": [
    "km1 = KMeans(n_clusters = 3)"
   ]
  },
  {
   "cell_type": "code",
   "execution_count": 18,
   "metadata": {
    "execution": {
     "iopub.execute_input": "2023-02-03T06:37:43.245274Z",
     "iopub.status.busy": "2023-02-03T06:37:43.239703Z",
     "iopub.status.idle": "2023-02-03T06:37:43.276725Z",
     "shell.execute_reply": "2023-02-03T06:37:43.275561Z",
     "shell.execute_reply.started": "2023-02-03T06:37:43.245215Z"
    }
   },
   "outputs": [
    {
     "name": "stderr",
     "output_type": "stream",
     "text": [
      "C:\\Users\\Poojan\\AppData\\Local\\Programs\\Python\\Python311\\Lib\\site-packages\\sklearn\\cluster\\_kmeans.py:870: FutureWarning: The default value of `n_init` will change from 10 to 'auto' in 1.4. Set the value of `n_init` explicitly to suppress the warning\n",
      "  warnings.warn(\n"
     ]
    }
   ],
   "source": [
    "y_means1 = km1.fit_predict(np.array(X))"
   ]
  },
  {
   "cell_type": "code",
   "execution_count": 19,
   "metadata": {
    "execution": {
     "iopub.execute_input": "2023-02-03T06:37:43.284640Z",
     "iopub.status.busy": "2023-02-03T06:37:43.281801Z",
     "iopub.status.idle": "2023-02-03T06:37:43.294930Z",
     "shell.execute_reply": "2023-02-03T06:37:43.293744Z",
     "shell.execute_reply.started": "2023-02-03T06:37:43.284588Z"
    }
   },
   "outputs": [
    {
     "data": {
      "text/plain": [
       "array([1, 1, 1, 1, 1, 1, 1, 1, 1, 1, 1, 1, 1, 1, 1, 1, 1, 1, 1, 1, 1, 1,\n",
       "       1, 0, 0, 0, 0, 0, 0, 0, 0, 2, 0, 2, 2, 0, 2, 0, 2, 0, 0, 0, 0, 0,\n",
       "       0, 2, 0, 0, 0, 0, 0, 0, 0, 0, 0, 2, 0, 2, 2, 0, 0, 0, 0, 0, 0, 0,\n",
       "       0, 0, 0, 0, 0, 0, 0, 2, 0, 0, 2, 0, 0, 0, 2, 2, 0, 0, 2, 2, 0, 2,\n",
       "       0, 0, 0, 0, 2, 0, 0, 0, 0, 0, 0, 0, 0, 0, 0, 0, 0, 0, 0, 0, 2, 2,\n",
       "       0, 0, 2, 0, 0, 2, 0, 0, 0, 2, 2, 0, 2, 0, 0, 0, 0, 0, 0, 0, 2, 0,\n",
       "       0, 0, 0, 0, 2, 2, 0, 0, 0, 0, 0, 0, 0, 0, 0, 0, 0, 0, 0, 0])"
      ]
     },
     "execution_count": 19,
     "metadata": {},
     "output_type": "execute_result"
    }
   ],
   "source": [
    "y_means1"
   ]
  },
  {
   "cell_type": "code",
   "execution_count": 20,
   "metadata": {
    "execution": {
     "iopub.execute_input": "2023-02-03T06:37:43.297632Z",
     "iopub.status.busy": "2023-02-03T06:37:43.296343Z",
     "iopub.status.idle": "2023-02-03T06:37:43.458663Z",
     "shell.execute_reply": "2023-02-03T06:37:43.457788Z",
     "shell.execute_reply.started": "2023-02-03T06:37:43.297432Z"
    }
   },
   "outputs": [
    {
     "data": {
      "text/plain": [
       "<matplotlib.collections.PathCollection at 0x2b6a3d5ecd0>"
      ]
     },
     "execution_count": 20,
     "metadata": {},
     "output_type": "execute_result"
    },
    {
     "data": {
      "image/png": "[encoded data removed]",
      "text/plain": [
       "<Figure size 640x480 with 1 Axes>"
      ]
     },
     "metadata": {},
     "output_type": "display_data"
    }
   ],
   "source": [
    "plt.scatter(X[y_means1 == 0,0],X[y_means1 == 0,1],color='orange')\n",
    "plt.scatter(X[y_means1 == 1,0],X[y_means1 == 1,1],color='blue')\n",
    "plt.scatter(X[y_means1 == 2,0],X[y_means1 == 2,1],color='red')"
   ]
  },
  {
   "cell_type": "code",
   "execution_count": null,
   "metadata": {},
   "outputs": [],
   "source": []
  }
 ],
 "metadata": {
  "kernelspec": {
   "display_name": "Python 3 (ipykernel)",
   "language": "python",
   "name": "python3"
  },
  "language_info": {
   "codemirror_mode": {
    "name": "ipython",
    "version": 3
   },
   "file_extension": ".py",
   "mimetype": "text/x-python",
   "name": "python",
   "nbconvert_exporter": "python",
   "pygments_lexer": "ipython3",
   "version": "3.11.1"
  }
 },
 "nbformat": 4,
 "nbformat_minor": 4
}
