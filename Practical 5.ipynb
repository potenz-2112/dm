{
 "cells": [
  {
   "cell_type": "code",
   "execution_count": 5,
   "id": "9ad8a100",
   "metadata": {},
   "outputs": [
    {
     "name": "stdout",
     "output_type": "stream",
     "text": [
      "AND Gate\n",
      "[0, 0] = 0\n",
      "[0, 1] = 0\n",
      "[1, 0] = 0\n",
      "[1, 1] = 1\n"
     ]
    }
   ],
   "source": [
    "def activation(x):\n",
    "    if x <= 0:\n",
    "        return 0\n",
    "    else:\n",
    "        return 1\n",
    "\n",
    "def perceptron_and(x1,x2):\n",
    "    w1 = 1\n",
    "    w2 = 1\n",
    "    b1 = -1\n",
    "\n",
    "    y1 = w1*x1 + w2*x2 + b1\n",
    "    y2 = activation(y1)\n",
    "\n",
    "    return(y2)\n",
    "\n",
    "print(\"AND Gate\")\n",
    "print(\"[0, 0] = \" + str(perceptron_and(0, 0)))\n",
    "print(\"[0, 1] = \" + str(perceptron_and(0, 1)))\n",
    "print(\"[1, 0] = \" + str(perceptron_and(1, 0)))\n",
    "print(\"[1, 1] = \" + str(perceptron_and(1, 1)))\n",
    "\n"
   ]
  },
  {
   "cell_type": "code",
   "execution_count": 6,
   "id": "e0d0dc17",
   "metadata": {},
   "outputs": [
    {
     "name": "stdout",
     "output_type": "stream",
     "text": [
      "OR Gate\n",
      "[0, 0] = 0\n",
      "[0, 1] = 1\n",
      "[1, 0] = 1\n",
      "[1, 1] = 1\n"
     ]
    }
   ],
   "source": [
    "def activation(x):\n",
    "    if x <= 0:\n",
    "        return 0\n",
    "    else:\n",
    "        return 1\n",
    "\n",
    "def perceptron_or(x1,x2):\n",
    "    w1 = 1\n",
    "    w2 = 1\n",
    "    b1 = -0.5\n",
    "\n",
    "    y1 = w1*x1 + w2*x2 + b1\n",
    "    y2 = activation(y1)\n",
    "\n",
    "    return(y2)\n",
    "\n",
    "print(\"OR Gate\")\n",
    "print(\"[0, 0] = \" + str(perceptron_or(0, 0)))\n",
    "print(\"[0, 1] = \" + str(perceptron_or(0, 1)))\n",
    "print(\"[1, 0] = \" + str(perceptron_or(1, 0)))\n",
    "print(\"[1, 1] = \" + str(perceptron_or(1, 1)))"
   ]
  }
 ],
 "metadata": {
  "kernelspec": {
   "display_name": "Python 3",
   "language": "python",
   "name": "python3"
  },
  "language_info": {
   "codemirror_mode": {
    "name": "ipython",
    "version": 3
   },
   "file_extension": ".py",
   "mimetype": "text/x-python",
   "name": "python",
   "nbconvert_exporter": "python",
   "pygments_lexer": "ipython3",
   "version": "3.11.1 (tags/v3.11.1:a7a450f, Dec  6 2022, 19:58:39) [MSC v.1934 64 bit (AMD64)]"
  },
  "vscode": {
   "interpreter": {
    "hash": "f61cc6eeb9645bac1db63380e8ca21e6b00354ba62efb1e3f1cd4b6477c847d9"
   }
  }
 },
 "nbformat": 4,
 "nbformat_minor": 5
}
