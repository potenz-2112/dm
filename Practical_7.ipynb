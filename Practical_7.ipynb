{
  "cells": [
    {
      "cell_type": "code",
      "execution_count": 1,
      "metadata": {
        "id": "_DohFTdlZN0G"
      },
      "outputs": [],
      "source": [
        "import numpy as np"
      ]
    },
    {
      "cell_type": "code",
      "execution_count": 2,
      "metadata": {
        "id": "9Q1jC_pVZR5r"
      },
      "outputs": [],
      "source": [
        "def sigmoid(x):\n",
        "    return 1 / (1 + np.exp(-x))"
      ]
    },
    {
      "cell_type": "code",
      "execution_count": 3,
      "metadata": {
        "id": "nBn4MDebZTYY"
      },
      "outputs": [],
      "source": [
        "def sigmoid_derivative(x):\n",
        "    return x * (1 - x)"
      ]
    },
    {
      "cell_type": "code",
      "execution_count": 4,
      "metadata": {
        "id": "BY4QLhmxZVHX"
      },
      "outputs": [],
      "source": [
        "# Input data\n",
        "X = np.array([[1, 0, 1]])"
      ]
    },
    {
      "cell_type": "code",
      "execution_count": 5,
      "metadata": {
        "id": "EV2o1cswZWqo"
      },
      "outputs": [],
      "source": [
        "# Initial weights and biases\n",
        "weights = {\n",
        "    \"w14\": 0.2, \"w15\": -0.3, \n",
        "    \"w24\": 0.4, \"w25\": 0.1, \n",
        "    \"w34\": -0.5, \"w35\": 0.2, \n",
        "    \"w46\": -0.3, \"w56\": -0.2\n",
        "}"
      ]
    },
    {
      "cell_type": "code",
      "execution_count": 6,
      "metadata": {
        "id": "lWKtl4U7ZY-9"
      },
      "outputs": [],
      "source": [
        "biases = {\n",
        "    \"θ4\": 0.2, \"θ5\": 0.1, \"θ6\": -0.4\n",
        "}"
      ]
    },
    {
      "cell_type": "code",
      "execution_count": 7,
      "metadata": {
        "id": "acBgyS7PZa6F"
      },
      "outputs": [],
      "source": [
        "# Learning rate\n",
        "lr = 0.9"
      ]
    },
    {
      "cell_type": "code",
      "execution_count": 8,
      "metadata": {
        "id": "j118dvL55Pd1"
      },
      "outputs": [],
      "source": [
        "# Feed-forward calculation\n",
        "net_input_4 = X[0][0] * weights[\"w14\"] + X[0][1] * weights[\"w24\"] + X[0][2] * weights[\"w34\"] + biases[\"θ4\"]\n",
        "output_4 = sigmoid(net_input_4)\n",
        "net_input_5 = X[0][0] * weights[\"w15\"] + X[0][1] * weights[\"w25\"] + X[0][2] * weights[\"w35\"] + biases[\"θ5\"]\n",
        "output_5 = sigmoid(net_input_5)\n",
        "net_input_6 = output_4 * weights[\"w46\"] + output_5 * weights[\"w56\"] + biases[\"θ6\"]\n",
        "output_6 = sigmoid(net_input_6)"
      ]
    },
    {
      "cell_type": "code",
      "execution_count": 9,
      "metadata": {
        "colab": {
          "base_uri": "https://localhost:8080/"
        },
        "id": "ua7vFrg2aGj2",
        "outputId": "1b5deee9-50af-4829-c92a-dd1a0bf5b14e"
      },
      "outputs": [
        {
          "data": {
            "text/plain": [
              "0.3446802195114974"
            ]
          },
          "execution_count": 9,
          "metadata": {},
          "output_type": "execute_result"
        }
      ],
      "source": [
        "output_6"
      ]
    },
    {
      "cell_type": "code",
      "execution_count": 10,
      "metadata": {
        "id": "eNtyDxWEZqnU"
      },
      "outputs": [],
      "source": [
        "# Label (output of the network)\n",
        "y = 1"
      ]
    },
    {
      "cell_type": "code",
      "execution_count": 11,
      "metadata": {
        "id": "mHop4YosZoox"
      },
      "outputs": [],
      "source": [
        "# Backpropagation\n",
        "error_6 = (y - output_6) * sigmoid_derivative(output_6)\n",
        "error_4 = sigmoid_derivative(output_4) * error_6 * weights[\"w46\"]\n",
        "error_5 = sigmoid_derivative(output_5) * error_6 * weights[\"w56\"]"
      ]
    },
    {
      "cell_type": "code",
      "execution_count": 12,
      "metadata": {
        "id": "u1bvEU1mZt28"
      },
      "outputs": [],
      "source": [
        "# Update weights and biases\n",
        "weights[\"w46\"] = weights[\"w46\"] + lr * error_6 * output_4\n",
        "weights[\"w56\"] = weights[\"w56\"] + lr * error_6 * output_5\n",
        "weights[\"w14\"] = weights[\"w14\"] + lr * error_4 * X[0][0]\n",
        "weights[\"w15\"] = weights[\"w15\"] + lr * error_5 * X[0][0]\n",
        "weights[\"w24\"] = weights[\"w24\"] + lr * error_4 * X[0][1]\n",
        "weights[\"w25\"] = weights[\"w25\"] + lr * error_5 * X[0][1]\n",
        "weights[\"w34\"] = weights[\"w34\"] + lr * error_4 * X[0][2]\n",
        "weights[\"w35\"] = weights[\"w35\"] + lr * error_5 * X[0][2]\n",
        "biases[\"θ4\"] = biases[\"θ4\"] + lr * error_4\n",
        "biases[\"θ5\"] = biases[\"θ5\"] + lr * error_5\n",
        "biases[\"θ6\"] = biases[\"θ6\"] + lr * error_6"
      ]
    },
    {
      "cell_type": "code",
      "execution_count": 13,
      "metadata": {
        "colab": {
          "base_uri": "https://localhost:8080/"
        },
        "id": "A5LaKuQ95VBM",
        "outputId": "3e640e49-b03a-4f7e-c534-18d8bd8be592"
      },
      "outputs": [
        {
          "data": {
            "text/plain": [
              "{'w14': 0.1900335290830157,\n",
              " 'w15': -0.3066609385764535,\n",
              " 'w24': 0.4,\n",
              " 'w25': 0.1,\n",
              " 'w34': -0.5099664709169843,\n",
              " 'w35': 0.1933390614235465,\n",
              " 'w46': -0.23671831090520376,\n",
              " 'w56': -0.13339061423546505}"
            ]
          },
          "execution_count": 13,
          "metadata": {},
          "output_type": "execute_result"
        }
      ],
      "source": [
        "weights"
      ]
    },
    {
      "cell_type": "code",
      "execution_count": 14,
      "metadata": {
        "colab": {
          "base_uri": "https://localhost:8080/"
        },
        "id": "HYIbxGM46Swd",
        "outputId": "80ba499f-9350-45ef-87a9-ab209d4c897e"
      },
      "outputs": [
        {
          "data": {
            "text/plain": [
              "{'θ4': 0.1900335290830157, 'θ5': 0.0933390614235465, 'θ6': -0.2667812284709301}"
            ]
          },
          "execution_count": 14,
          "metadata": {},
          "output_type": "execute_result"
        }
      ],
      "source": [
        "biases"
      ]
    },
    {
      "cell_type": "code",
      "execution_count": 15,
      "metadata": {
        "id": "ilAXxQH16UPn"
      },
      "outputs": [],
      "source": [
        "# Feed-forward calculation\n",
        "net_input_4 = X[0][0] * weights[\"w14\"] + X[0][1] * weights[\"w24\"] + X[0][2] * weights[\"w34\"] + biases[\"θ4\"]\n",
        "output_4 = sigmoid(net_input_4)\n",
        "net_input_5 = X[0][0] * weights[\"w15\"] + X[0][1] * weights[\"w25\"] + X[0][2] * weights[\"w35\"] + biases[\"θ5\"]\n",
        "output_5 = sigmoid(net_input_5)\n",
        "net_input_6 = output_4 * weights[\"w46\"] + output_5 * weights[\"w56\"] + biases[\"θ6\"]\n",
        "output_6 = sigmoid(net_input_6)"
      ]
    },
    {
      "cell_type": "code",
      "execution_count": 16,
      "metadata": {
        "colab": {
          "base_uri": "https://localhost:8080/"
        },
        "id": "yGHZgXB_aRdq",
        "outputId": "e3ef62ba-8587-496d-919d-d87835ec9357"
      },
      "outputs": [
        {
          "data": {
            "text/plain": [
              "0.39090903648853925"
            ]
          },
          "execution_count": 16,
          "metadata": {},
          "output_type": "execute_result"
        }
      ],
      "source": [
        "output_6"
      ]
    }
  ],
  "metadata": {
    "colab": {
      "provenance": []
    },
    "kernelspec": {
      "display_name": "Python 3",
      "language": "python",
      "name": "python3"
    },
    "language_info": {
      "codemirror_mode": {
        "name": "ipython",
        "version": 3
      },
      "file_extension": ".py",
      "mimetype": "text/x-python",
      "name": "python",
      "nbconvert_exporter": "python",
      "pygments_lexer": "ipython3",
      "version": "3.11.1"
    },
    "vscode": {
      "interpreter": {
        "hash": "f61cc6eeb9645bac1db63380e8ca21e6b00354ba62efb1e3f1cd4b6477c847d9"
      }
    }
  },
  "nbformat": 4,
  "nbformat_minor": 0
}
